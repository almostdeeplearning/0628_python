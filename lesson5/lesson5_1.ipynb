{
 "cells": [
  {
   "cell_type": "code",
   "execution_count": 5,
   "id": "b4374dcb",
   "metadata": {},
   "outputs": [
    {
     "name": "stdout",
     "output_type": "stream",
     "text": [
      "💬 AI 回應：\n",
      "{'model': 'gemma3:1b', 'created_at': '2025-07-26T03:54:45.576770464Z', 'response': '{ \\n    \"我是一個大型語言模型，由 Google 訓練。我是一個人工智能程式，旨在提供資訊、產生文字、並執行各種任務。我學習並使用大量文本資料，這讓我能夠理解和生成人類語言。 簡而言之，我是一個由電腦程式設計出來的語言助手。\":\\n\\n    {\\n        \"我是一個由 Google 開發的語言模型。我主要運作於自然語言處理領域，我的目標是協助您完成各種任務，例如：回答您的問題、寫作不同類型的創意內容、翻譯語言、撰寫程式碼等等。我會盡力提供準確、有用的答案，但請注意，我仍然在不斷學習和改進。\":\\n    \\n    \\n    \\n    \\n    \\n    \\n    \\n    \\n    \\n    \\n    \\n    \\n    \\n    \\n    \\n', 'done': False}\n",
      "{ \n",
      "    \"我是一個大型語言模型，由 Google 訓練。我是一個人工智能程式，旨在提供資訊、產生文字、並執行各種任務。我學習並使用大量文本資料，這讓我能夠理解和生成人類語言。 簡而言之，我是一個由電腦程式設計出來的語言助手。\":\n",
      "\n",
      "    {\n",
      "        \"我是一個由 Google 開發的語言模型。我主要運作於自然語言處理領域，我的目標是協助您完成各種任務，例如：回答您的問題、寫作不同類型的創意內容、翻譯語言、撰寫程式碼等等。我會盡力提供準確、有用的答案，但請注意，我仍然在不斷學習和改進。\":\n",
      "    \n",
      "    \n",
      "    \n",
      "    \n",
      "    \n",
      "    \n",
      "    \n",
      "    \n",
      "    \n",
      "    \n",
      "    \n",
      "    \n",
      "    \n",
      "    \n",
      "    \n",
      "\n"
     ]
    }
   ],
   "source": [
    "import requests\n",
    "\n",
    "def chat_with_ollama(prompt: str):\n",
    "    url = \"http://localhost:11434/api/generate\"\n",
    "    payload = {\n",
    "        \"model\": \"gemma3:1b\",\n",
    "        \"prompt\": prompt,\n",
    "        \"stream\": False,\n",
    "        \"options\": { #參考說明1\n",
    "            \"temperature\": 0.7,\n",
    "            \"top_p\": 0.9,\n",
    "            \"top_k\": 50,\n",
    "        },\n",
    "        \"max_tokens\": 100,\n",
    "        \"format\": \"json\",\n",
    "    }\n",
    "\n",
    "    response = requests.post(url, json=payload)\n",
    "    result = response.json()\n",
    "    print(\"💬 AI 回應：\")\n",
    "    # Print the whole result for debugging\n",
    "    print(result)\n",
    "    # Try to print the 'response' key if it exists, otherwise print possible keys\n",
    "    if \"response\" in result:\n",
    "        print(result[\"response\"])\n",
    "    elif \"message\" in result:\n",
    "        print(result[\"message\"])\n",
    "    elif \"content\" in result:\n",
    "        print(result[\"content\"])\n",
    "    else:\n",
    "        print(\"No expected key found in response. Available keys:\", result.keys())\n",
    "\n",
    "#範例輸入\n",
    "chat_with_ollama(\"請問你是誰？\")"
   ]
  }
 ],
 "metadata": {
  "kernelspec": {
   "display_name": "linebot",
   "language": "python",
   "name": "python3"
  },
  "language_info": {
   "codemirror_mode": {
    "name": "ipython",
    "version": 3
   },
   "file_extension": ".py",
   "mimetype": "text/x-python",
   "name": "python",
   "nbconvert_exporter": "python",
   "pygments_lexer": "ipython3",
   "version": "3.12.11"
  }
 },
 "nbformat": 4,
 "nbformat_minor": 5
}
