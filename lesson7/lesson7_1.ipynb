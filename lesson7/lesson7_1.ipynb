{
 "cells": [
  {
   "cell_type": "code",
   "execution_count": 3,
   "id": "00f44909",
   "metadata": {},
   "outputs": [
    {
     "name": "stdout",
     "output_type": "stream",
     "text": [
      "<class 'str'>\n"
     ]
    },
    {
     "data": {
      "text/markdown": [
       "人工智慧 (AI) 的運作核心在於**讓機器模仿人類的智慧行為**，特別是學習、理解、判斷和解決問題的能力。你可以把它想像成一個非常聰明且勤奮的學生，透過大量的經驗和練習來掌握知識並應用它。\n",
       "\n",
       "以下是 AI 運作的幾個主要環節：\n",
       "\n",
       "### 1. 核心理念：從數據中學習 (Learning from Data)\n",
       "\n",
       "AI 能夠運作的基礎是**從大量的數據中學習、識別模式，並基於這些模式做出預測或決策**。它不像傳統程式那樣被明確地「告訴」每一步該怎麼做，而是透過觀察數據來「發現」規則。\n",
       "\n",
       "### 2. AI 的三大要素\n",
       "\n",
       "為了實現學習和決策，AI 需要以下三個核心要素：\n",
       "\n",
       "*   **1. 數據 (Data)：AI 的「糧食」**\n",
       "    *   AI 需要大量的數據來學習，這些數據可以是文字、圖片、聲音、數字等等。數據的質量和數量直接影響 AI 的學習效果。\n",
       "    *   例如：要讓 AI 辨識貓咪，就需要餵給它成千上萬張貓咪的圖片（以及非貓咪的圖片）。\n",
       "\n",
       "*   **2. 演算法 (Algorithms)：AI 的「大腦」或「處理方式」**\n",
       "    *   演算法是一套數學模型和規則，定義了 AI 如何從數據中學習、處理信息並做出判斷。不同的任務需要不同的演算法。\n",
       "    *   例如：神經網路、決策樹、支持向量機等都是常見的演算法模型。\n",
       "\n",
       "*   **3. 計算能力 (Computational Power)：AI 的「動力」**\n",
       "    *   執行複雜的演算法並處理海量數據需要強大的計算資源，通常是高性能的中央處理器 (CPU) 和圖形處理器 (GPU)，甚至專門為 AI 設計的張量處理器 (TPU)。\n",
       "\n",
       "### 3. AI 的運作過程：訓練與推論\n",
       "\n",
       "AI 的運作通常分為兩個主要階段：\n",
       "\n",
       "*   **1. 訓練階段 (Training Phase)**\n",
       "    *   **目的：** 讓 AI 模型從數據中學習並建立知識。\n",
       "    *   **如何運作：**\n",
       "        *   將大量的數據（通常是帶有標籤的數據，例如圖片標註「貓」或「狗」）輸入給 AI 模型。\n",
       "        *   模型會根據選定的演算法，不斷調整內部的參數，試圖找出數據中的模式和規律，以便更準確地完成任務。\n",
       "        *   這個過程就像一個學生透過大量的練習題來學習解題方法，並不斷修正錯誤。\n",
       "    *   **結果：** 產生一個訓練好的 AI 模型，它包含了從數據中學習到的「知識」。\n",
       "\n",
       "*   **2. 推論階段 (Inference Phase)**\n",
       "    *   **目的：** 讓訓練好的 AI 模型運用其知識來處理新的、未知的數據。\n",
       "    *   **如何運作：**\n",
       "        *   當模型訓練完成後，就可以用來處理新的、從未見過的數據（例如一張新拍的圖片）。\n",
       "        *   模型會運用它在訓練階段學習到的模式和知識，對新數據進行分析、判斷或預測。\n",
       "    *   **結果：** 模型給出一個輸出，例如判斷圖片中的是「貓」，或者對一個問題給出答案。這就像學生學會了知識後，能夠應用它來解決新的問題。\n",
       "\n",
       "### 4. AI 的學習方式 (常見的演算法範式)\n",
       "\n",
       "AI 學習數據的方式有很多種，主要分為：\n",
       "\n",
       "*   **1. 監督式學習 (Supervised Learning)：**\n",
       "    *   **概念：** 學習數據帶有「正確答案」（標籤），AI 就像在「老師」的指導下學習。\n",
       "    *   **應用：** 圖像分類（這是貓/狗）、垃圾郵件辨識（這是垃圾郵件/不是）、股價預測。\n",
       "*   **2. 非監督式學習 (Unsupervised Learning)：**\n",
       "    *   **概念：** 學習數據沒有「正確答案」，AI 需要自己去發現數據內在的結構、模式或分組。\n",
       "    *   **應用：** 客戶分群、異常檢測（找出不尋常的行為）、文件主題分析。\n",
       "*   **3. 強化學習 (Reinforcement Learning)：**\n",
       "    *   **概念：** AI 透過與環境互動，嘗試不同的行動，並根據「獎勵」或「懲罰」來學習哪些行為是好的。\n",
       "    *   **應用：** 下棋（AlphaGo）、機器人控制、自動駕駛。\n",
       "\n",
       "### 5. 常見的 AI 技術分支\n",
       "\n",
       "*   **機器學習 (Machine Learning, ML)：** AI 的一個重要分支，專注於開發讓電腦從數據中學習的演算法。\n",
       "*   **深度學習 (Deep Learning, DL)：** 機器學習的一個子集，使用多層人工神經網路（模仿人腦結構）來處理數據，在圖像、語音等複雜數據處理上表現出色。\n",
       "*   **自然語言處理 (Natural Language Processing, NLP)：** 讓電腦理解、生成和處理人類語言的技術（例如語音助手、翻譯軟體、聊天機器人）。\n",
       "*   **電腦視覺 (Computer Vision, CV)：** 讓電腦「看」並理解圖像和影片內容的技術（例如人臉辨識、自動駕駛的環境感知）。\n",
       "*   **推薦系統 (Recommender Systems)：** 根據用戶過去的行為和偏好，推薦商品、內容或服務（例如 Netflix 的電影推薦、電商的商品推薦）。\n",
       "\n",
       "### 簡單總結：\n",
       "\n",
       "想像 AI 是一個廚師。\n",
       "*   **數據** 是食材（例如：各種蔬菜、肉類、調料）。\n",
       "*   **演算法** 是食譜（告訴廚師如何處理食材、烹飪的步驟）。\n",
       "*   **計算能力** 是廚房設備（爐子、烤箱、刀具）。\n",
       "*   **訓練** 是廚師不斷嘗試和學習食譜的過程，直到掌握烹飪技巧。\n",
       "*   **推論** 是當有新的客人點菜時，廚師根據學會的技巧，快速做出美味的菜餚。\n",
       "\n",
       "透過這樣不斷的學習和優化，AI 才能在各種複雜的任務中表現出接近甚至超越人類的能力。"
      ],
      "text/plain": [
       "<IPython.core.display.Markdown object>"
      ]
     },
     "metadata": {},
     "output_type": "display_data"
    }
   ],
   "source": [
    "from google import genai\n",
    "import os\n",
    "from IPython.display import display, Markdown, Latex\n",
    "\n",
    "client = genai.Client(api_key=os.environ['GEMINI_API_KEY'])\n",
    "\n",
    "response = client.models.generate_content(\n",
    "    model=\"gemini-2.5-flash\",\n",
    "    contents=\"AI是如何工作的(請使用繁體中文回答)?\"\n",
    ")\n",
    "print(type(response.text))\n",
    "display(Markdown(response.text))"
   ]
  },
  {
   "cell_type": "code",
   "execution_count": 4,
   "id": "dc9a4f50",
   "metadata": {},
   "outputs": [
    {
     "name": "stdout",
     "output_type": "stream",
     "text": [
      "AI works by **learning patterns** from vast amounts of data to make predictions or decisions.\n"
     ]
    }
   ],
   "source": [
    "from google import genai\n",
    "from google.genai import types\n",
    "\n",
    "client = genai.Client()\n",
    "\n",
    "response = client.models.generate_content(\n",
    "    model=\"gemini-2.5-flash\",\n",
    "    contents=\"Explain how AI works in a few words\",\n",
    "    config=types.GenerateContentConfig(\n",
    "        thinking_config=types.ThinkingConfig(thinking_budget=0) # Disables thinking\n",
    "    ),\n",
    ")\n",
    "print(response.text)"
   ]
  },
  {
   "cell_type": "code",
   "execution_count": 5,
   "id": "bce6a83e",
   "metadata": {},
   "outputs": [
    {
     "name": "stdout",
     "output_type": "stream",
     "text": [
      "AI 的工作原理是透過從大量資料中學習模式和關聯性。\n",
      "AI works by learning patterns and relationships from vast amounts of data.\n",
      "\n",
      "它使用演算法來分析資料、識別趨勢並根據這些趨勢做出預測或決策。\n",
      "It uses algorithms to analyze data, identify trends, and make predictions or decisions based on these trends.\n",
      "\n",
      "這個學習過程稱為機器學習，其中模型會根據資料進行調整和改進其性能。\n",
      "This learning process is called machine learning, where the model adjusts and improves its performance based on the data.\n",
      "\n",
      "對於更複雜的AI，例如深度學習，它會使用多層次的類神經網路來處理更抽象和複雜的資訊。\n",
      "For more complex AI, such as deep learning, it uses multi-layered neural networks to process more abstract and complex information.\n",
      "\n",
      "因此，AI本質上是透過訓練從經驗中學習，而不是被明確地程式設計來執行每項特定任務。\n",
      "Therefore, AI essentially learns from experience through training, rather than being explicitly programmed for every specific task.\n"
     ]
    }
   ],
   "source": [
    "from google import genai\n",
    "from google.genai import types\n",
    "\n",
    "client = genai.Client()\n",
    "\n",
    "system_instruction = \"\"\"\n",
    "你是個友善且樂於助人的助理。\n",
    "回答時,請回答繁體中文和英文,\n",
    "一行繁體中文,一行英文翻譯\n",
    "\"\"\"\n",
    "\n",
    "\n",
    "\n",
    "thinking = types.ThinkingConfig(thinking_budget=100)\n",
    "\n",
    "config = types.GenerateContentConfig(\n",
    "    thinking_config=thinking, # Disables thinking\n",
    "    temperature=1,\n",
    "    top_k=40,\n",
    "    top_p=1,\n",
    "    system_instruction=system_instruction\n",
    "    \n",
    ")\n",
    "\n",
    "\n",
    "response = client.models.generate_content(\n",
    "    model=\"gemini-2.5-flash\",\n",
    "    contents=[\"AI是如何工作的?\"],\n",
    "    config=config\n",
    ")\n",
    "print(response.text)"
   ]
  }
 ],
 "metadata": {
  "kernelspec": {
   "display_name": "linebot",
   "language": "python",
   "name": "python3"
  },
  "language_info": {
   "codemirror_mode": {
    "name": "ipython",
    "version": 3
   },
   "file_extension": ".py",
   "mimetype": "text/x-python",
   "name": "python",
   "nbconvert_exporter": "python",
   "pygments_lexer": "ipython3",
   "version": "3.12.11"
  }
 },
 "nbformat": 4,
 "nbformat_minor": 5
}
