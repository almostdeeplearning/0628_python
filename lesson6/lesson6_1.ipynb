{
 "cells": [
  {
   "cell_type": "markdown",
   "id": "6218e3cc",
   "metadata": {},
   "source": [
    "### - 變數, List, dict\n",
    "### - 判斷, 迴圈\n",
    "### - function\n",
    "### - 內建的function, 內建module, 外部的module\n",
    "### - 什麼是實體"
   ]
  },
  {
   "cell_type": "code",
   "execution_count": null,
   "id": "952e1fe3",
   "metadata": {},
   "outputs": [
    {
     "data": {
      "text/plain": [
       "('小明', 20, 175.5)"
      ]
     },
     "execution_count": 3,
     "metadata": {},
     "output_type": "execute_result"
    }
   ],
   "source": [
    "# 變數(Variable)\n",
    "name = \"小明\"  # 字串類型變數\n",
    "age = 20\n",
    "height = 175.5\n",
    "\n",
    "name, age, height #這是tuple 「只要建立了，就不能修改內容」。"
   ]
  },
  {
   "cell_type": "code",
   "execution_count": 6,
   "id": "862ba7c0",
   "metadata": {},
   "outputs": [
    {
     "name": "stdout",
     "output_type": "stream",
     "text": [
      "<class 'list'>\n",
      "蘋果\n",
      "['蘋果', '香蕉', '櫻桃', '橘子']\n",
      "反轉後的水果清單 ['橘子', '櫻桃', '香蕉', '蘋果']\n"
     ]
    }
   ],
   "source": [
    "fruits = [\"蘋果\", \"香蕉\", \"櫻桃\"]    #這是list, 內容可以修改，適合做為資料。  fruits是list實體\n",
    "print(type(fruits))        # 輸出：['蘋果', '香蕉', '櫻桃']\n",
    "print(fruits[0])     # 輸出：apple\n",
    "fruits.append(\"橘子\")  # 新增一個元素\n",
    "print(fruits)        # 輸出：['apple', 'banana', 'cherry', 'orange']\n",
    "fruits.reverse() \n",
    "print(\"反轉後的水果清單\",fruits)"
   ]
  }
 ],
 "metadata": {
  "kernelspec": {
   "display_name": "linebot",
   "language": "python",
   "name": "python3"
  },
  "language_info": {
   "codemirror_mode": {
    "name": "ipython",
    "version": 3
   },
   "file_extension": ".py",
   "mimetype": "text/x-python",
   "name": "python",
   "nbconvert_exporter": "python",
   "pygments_lexer": "ipython3",
   "version": "3.12.11"
  }
 },
 "nbformat": 4,
 "nbformat_minor": 5
}
