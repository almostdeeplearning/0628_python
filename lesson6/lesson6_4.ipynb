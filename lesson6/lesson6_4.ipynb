{
 "cells": [
  {
   "cell_type": "code",
   "execution_count": 10,
   "id": "9ea5b7ff",
   "metadata": {},
   "outputs": [
    {
     "name": "stdout",
     "output_type": "stream",
     "text": [
      "===========AI回應==============\n"
     ]
    },
    {
     "data": {
      "text/markdown": [
       "想像一下，Python 函式就像一個**小小的程式**，它能做一些特定的事情。 \n",
       "\n",
       "**簡單來說，函式就是告訴 Python 讓做什麼，並且按照你指定的方式做。**\n",
       "\n",
       "以下是一些關鍵點：\n",
       "\n",
       "* **執行：** 函式會被你寫出來，然後Python會執行它。\n",
       "* **輸入：** 函式需要一個「輸入」，也就是給它一些資料。\n",
       "* **輸出：** 函式會根據輸入的資料，產生一個「輸出」，也就是結果。\n",
       "* **簡單指令：** 函式通常只做一兩個簡單的指令，比如計算，比較，或者顯示訊息。\n",
       "\n",
       "**例如：**\n",
       "\n",
       "假設你想寫一個函式來計算一個數字：\n",
       "\n",
       "```python\n",
       "def add_numbers(x, y):\n",
       "  \"\"\"這函式加兩個數字\"\"\"\n",
       "  result = x + y\n",
       "  return result\n",
       "\n",
       "#  usamos這個函式\n",
       "sum = add_numbers(5, 3)\n",
       "print(sum) # 輸出：8\n",
       "```\n",
       "\n",
       "**總結：** 函式就像命令，Python 會按照你寫的命令執行，取得你想要的效果。\n",
       "\n",
       "**你可以把它想像成一個“工具”，Python 函式可以讓你做各種各樣的事情。**\n",
       "\n",
       "希望這個解釋能幫助你理解 Python 函式！\n"
      ],
      "text/plain": [
       "<IPython.core.display.Markdown object>"
      ]
     },
     "metadata": {},
     "output_type": "display_data"
    }
   ],
   "source": [
    "import requests\n",
    "#import pprint\n",
    "from pprint import pprint\n",
    "from IPython.display import Markdown, display\n",
    "\n",
    "def generate_with_ollama(prompt):\n",
    "    url = \"http://localhost:11434/api/generate\"\n",
    "    payload = {\n",
    "    \"model\": \"gemma3:1b\",\n",
    "    \"prompt\": prompt,\n",
    "    \"stream\": False\n",
    "}\n",
    "\n",
    "    response = requests.post(url,json=payload)\n",
    "    result = response.json()\n",
    "        #print(type(result))\n",
    "        #pprint(result)\n",
    "    print(\"===========AI回應==============\")\n",
    "    display(Markdown(result['response']))\n",
    "\n",
    "generate_with_ollama(\"請用簡單的方式解釋什麼是Python的函式？\")\n"
   ]
  }
 ],
 "metadata": {
  "kernelspec": {
   "display_name": "linebot",
   "language": "python",
   "name": "python3"
  },
  "language_info": {
   "codemirror_mode": {
    "name": "ipython",
    "version": 3
   },
   "file_extension": ".py",
   "mimetype": "text/x-python",
   "name": "python",
   "nbconvert_exporter": "python",
   "pygments_lexer": "ipython3",
   "version": "3.12.11"
  }
 },
 "nbformat": 4,
 "nbformat_minor": 5
}
